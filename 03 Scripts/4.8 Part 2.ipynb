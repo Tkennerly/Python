{
 "cells": [
  {
   "cell_type": "markdown",
   "id": "82953180",
   "metadata": {},
   "source": [
    "# 4.9 Task - Part 2"
   ]
  },
  {
   "cell_type": "markdown",
   "id": "2d19a01a",
   "metadata": {},
   "source": [
    "#### Part 2 Question 1\n",
    "\n",
    "Create a new notebook, import the necessary analysis and visualization libraries, then import your most up-to-date project data (i.e., the data set with your new customer data from the first part of this task)."
   ]
  },
  {
   "cell_type": "code",
   "execution_count": null,
   "id": "a99fa1ef",
   "metadata": {},
   "outputs": [],
   "source": [
    "# Import libraries\n",
    "\n",
    "import pandas as pd\n",
    "import numpy as np\n",
    "import os\n",
    "import matplotlib.pyplot as plt\n",
    "import seaborn as sns\n",
    "import scipy"
   ]
  },
  {
   "cell_type": "code",
   "execution_count": null,
   "id": "8b9ec868",
   "metadata": {},
   "outputs": [],
   "source": [
    "# declare path as variable\n",
    "\n",
    "path = r'C:\\Users\\Pink PC\\Downloads\\Instacart Basket Analysis'"
   ]
  },
  {
   "cell_type": "code",
   "execution_count": 3,
   "id": "d680512e",
   "metadata": {},
   "outputs": [],
   "source": [
    "# import orders_products_all.pkl\n",
    "\n",
    "df_all = pd.read_pickle(os.path.join(path,'02 Data','Prepared Data','orders_products_combined.pkl'))"
   ]
  },
  {
   "cell_type": "markdown",
   "id": "c09c9deb",
   "metadata": {},
   "source": [
    "#### Part 2 Question 2\n",
    "\n",
    "If you havenâ€™t done so already, follow the instructions in the Exercise to create a bar chart, a histogram, a scatterplot, and a line chart, using a sample subset for the line chart."
   ]
  },
  {
   "cell_type": "code",
   "execution_count": 4,
   "id": "891721a9",
   "metadata": {},
   "outputs": [],
   "source": [
    "# set the seed for random number generator\n",
    "\n",
    "np.random.seed(4)"
   ]
  },
  {
   "cell_type": "code",
   "execution_count": 5,
   "id": "4df59fce",
   "metadata": {},
   "outputs": [],
   "source": [
    "# create randomized sample using 30/70 split\n",
    "\n",
    "dev = np.random.rand(len(df_all)) <= 0.7"
   ]
  },
  {
   "cell_type": "code",
   "execution_count": 6,
   "id": "e2c8ea41",
   "metadata": {},
   "outputs": [],
   "source": [
    "# store 70% of sample dataframe big\n",
    "\n",
    "big = df_all[dev]"
   ]
  },
  {
   "cell_type": "code",
   "execution_count": 7,
   "id": "fec16065",
   "metadata": {},
   "outputs": [],
   "source": [
    "# store 30% of sample dataframe big\n",
    "\n",
    "small = df_all[~dev]"
   ]
  },
  {
   "cell_type": "code",
   "execution_count": 8,
   "id": "008df136",
   "metadata": {},
   "outputs": [
    {
     "data": {
      "text/plain": [
       "True"
      ]
     },
     "execution_count": 8,
     "metadata": {},
     "output_type": "execute_result"
    }
   ],
   "source": [
    "# check big and small dataframes\n",
    "\n",
    "(len(big) + len(small)) == len(df_all)"
   ]
  },
  {
   "cell_type": "code",
   "execution_count": 9,
   "id": "c1ecd7fb",
   "metadata": {},
   "outputs": [
    {
     "data": {
      "image/png": "[encoded data removed]",
      "text/plain": [
       "<Figure size 640x480 with 1 Axes>"
      ]
     },
     "metadata": {},
     "output_type": "display_data"
    }
   ],
   "source": [
    "# create bar chart from subset\n",
    "\n",
    "bar = small['orders_day_of_week'].value_counts().plot.bar(color =['purple', 'red', 'pink', 'orange', 'yellow', 'green', 'blue'])"
   ]
  },
  {
   "cell_type": "code",
   "execution_count": 10,
   "id": "802bf4e8",
   "metadata": {},
   "outputs": [
    {
     "ename": "FileNotFoundError",
     "evalue": "[Errno 2] No such file or directory: 'C:\\\\Users\\\\Pink PC\\\\Downloads\\\\Instacart Basket Analysis\\\\04 Analysis\\\\Visualizations\\\\bar_orders_dow_4.9.png'",
     "output_type": "error",
     "traceback": [
      "\u001b[1;31m---------------------------------------------------------------------------\u001b[0m",
      "\u001b[1;31mFileNotFoundError\u001b[0m                         Traceback (most recent call last)",
      "Cell \u001b[1;32mIn[10], line 3\u001b[0m\n\u001b[0;32m      1\u001b[0m \u001b[38;5;66;03m# export bar chart\u001b[39;00m\n\u001b[1;32m----> 3\u001b[0m bar\u001b[38;5;241m.\u001b[39mfigure\u001b[38;5;241m.\u001b[39msavefig(os\u001b[38;5;241m.\u001b[39mpath\u001b[38;5;241m.\u001b[39mjoin(path, \u001b[38;5;124m'\u001b[39m\u001b[38;5;124m04 Analysis\u001b[39m\u001b[38;5;124m'\u001b[39m,\u001b[38;5;124m'\u001b[39m\u001b[38;5;124mVisualizations\u001b[39m\u001b[38;5;124m'\u001b[39m, \u001b[38;5;124m'\u001b[39m\u001b[38;5;124mbar_orders_dow_4.9.png\u001b[39m\u001b[38;5;124m'\u001b[39m))\n",
      "File \u001b[1;32m~\\Downloads\\Anaconda\\Lib\\site-packages\\matplotlib\\figure.py:3390\u001b[0m, in \u001b[0;36mFigure.savefig\u001b[1;34m(self, fname, transparent, **kwargs)\u001b[0m\n\u001b[0;32m   3388\u001b[0m     \u001b[38;5;28;01mfor\u001b[39;00m ax \u001b[38;5;129;01min\u001b[39;00m \u001b[38;5;28mself\u001b[39m\u001b[38;5;241m.\u001b[39maxes:\n\u001b[0;32m   3389\u001b[0m         _recursively_make_axes_transparent(stack, ax)\n\u001b[1;32m-> 3390\u001b[0m \u001b[38;5;28mself\u001b[39m\u001b[38;5;241m.\u001b[39mcanvas\u001b[38;5;241m.\u001b[39mprint_figure(fname, \u001b[38;5;241m*\u001b[39m\u001b[38;5;241m*\u001b[39mkwargs)\n",
      "File \u001b[1;32m~\\Downloads\\Anaconda\\Lib\\site-packages\\matplotlib\\backend_bases.py:2187\u001b[0m, in \u001b[0;36mFigureCanvasBase.print_figure\u001b[1;34m(self, filename, dpi, facecolor, edgecolor, orientation, format, bbox_inches, pad_inches, bbox_extra_artists, backend, **kwargs)\u001b[0m\n\u001b[0;32m   2183\u001b[0m \u001b[38;5;28;01mtry\u001b[39;00m:\n\u001b[0;32m   2184\u001b[0m     \u001b[38;5;66;03m# _get_renderer may change the figure dpi (as vector formats\u001b[39;00m\n\u001b[0;32m   2185\u001b[0m     \u001b[38;5;66;03m# force the figure dpi to 72), so we need to set it again here.\u001b[39;00m\n\u001b[0;32m   2186\u001b[0m     \u001b[38;5;28;01mwith\u001b[39;00m cbook\u001b[38;5;241m.\u001b[39m_setattr_cm(\u001b[38;5;28mself\u001b[39m\u001b[38;5;241m.\u001b[39mfigure, dpi\u001b[38;5;241m=\u001b[39mdpi):\n\u001b[1;32m-> 2187\u001b[0m         result \u001b[38;5;241m=\u001b[39m print_method(\n\u001b[0;32m   2188\u001b[0m             filename,\n\u001b[0;32m   2189\u001b[0m             facecolor\u001b[38;5;241m=\u001b[39mfacecolor,\n\u001b[0;32m   2190\u001b[0m             edgecolor\u001b[38;5;241m=\u001b[39medgecolor,\n\u001b[0;32m   2191\u001b[0m             orientation\u001b[38;5;241m=\u001b[39morientation,\n\u001b[0;32m   2192\u001b[0m             bbox_inches_restore\u001b[38;5;241m=\u001b[39m_bbox_inches_restore,\n\u001b[0;32m   2193\u001b[0m             \u001b[38;5;241m*\u001b[39m\u001b[38;5;241m*\u001b[39mkwargs)\n\u001b[0;32m   2194\u001b[0m \u001b[38;5;28;01mfinally\u001b[39;00m:\n\u001b[0;32m   2195\u001b[0m     \u001b[38;5;28;01mif\u001b[39;00m bbox_inches \u001b[38;5;129;01mand\u001b[39;00m restore_bbox:\n",
      "File \u001b[1;32m~\\Downloads\\Anaconda\\Lib\\site-packages\\matplotlib\\backend_bases.py:2043\u001b[0m, in \u001b[0;36mFigureCanvasBase._switch_canvas_and_return_print_method.<locals>.<lambda>\u001b[1;34m(*args, **kwargs)\u001b[0m\n\u001b[0;32m   2039\u001b[0m     optional_kws \u001b[38;5;241m=\u001b[39m {  \u001b[38;5;66;03m# Passed by print_figure for other renderers.\u001b[39;00m\n\u001b[0;32m   2040\u001b[0m         \u001b[38;5;124m\"\u001b[39m\u001b[38;5;124mdpi\u001b[39m\u001b[38;5;124m\"\u001b[39m, \u001b[38;5;124m\"\u001b[39m\u001b[38;5;124mfacecolor\u001b[39m\u001b[38;5;124m\"\u001b[39m, \u001b[38;5;124m\"\u001b[39m\u001b[38;5;124medgecolor\u001b[39m\u001b[38;5;124m\"\u001b[39m, \u001b[38;5;124m\"\u001b[39m\u001b[38;5;124morientation\u001b[39m\u001b[38;5;124m\"\u001b[39m,\n\u001b[0;32m   2041\u001b[0m         \u001b[38;5;124m\"\u001b[39m\u001b[38;5;124mbbox_inches_restore\u001b[39m\u001b[38;5;124m\"\u001b[39m}\n\u001b[0;32m   2042\u001b[0m     skip \u001b[38;5;241m=\u001b[39m optional_kws \u001b[38;5;241m-\u001b[39m {\u001b[38;5;241m*\u001b[39minspect\u001b[38;5;241m.\u001b[39msignature(meth)\u001b[38;5;241m.\u001b[39mparameters}\n\u001b[1;32m-> 2043\u001b[0m     print_method \u001b[38;5;241m=\u001b[39m functools\u001b[38;5;241m.\u001b[39mwraps(meth)(\u001b[38;5;28;01mlambda\u001b[39;00m \u001b[38;5;241m*\u001b[39margs, \u001b[38;5;241m*\u001b[39m\u001b[38;5;241m*\u001b[39mkwargs: meth(\n\u001b[0;32m   2044\u001b[0m         \u001b[38;5;241m*\u001b[39margs, \u001b[38;5;241m*\u001b[39m\u001b[38;5;241m*\u001b[39m{k: v \u001b[38;5;28;01mfor\u001b[39;00m k, v \u001b[38;5;129;01min\u001b[39;00m kwargs\u001b[38;5;241m.\u001b[39mitems() \u001b[38;5;28;01mif\u001b[39;00m k \u001b[38;5;129;01mnot\u001b[39;00m \u001b[38;5;129;01min\u001b[39;00m skip}))\n\u001b[0;32m   2045\u001b[0m \u001b[38;5;28;01melse\u001b[39;00m:  \u001b[38;5;66;03m# Let third-parties do as they see fit.\u001b[39;00m\n\u001b[0;32m   2046\u001b[0m     print_method \u001b[38;5;241m=\u001b[39m meth\n",
      "File \u001b[1;32m~\\Downloads\\Anaconda\\Lib\\site-packages\\matplotlib\\backends\\backend_agg.py:497\u001b[0m, in \u001b[0;36mFigureCanvasAgg.print_png\u001b[1;34m(self, filename_or_obj, metadata, pil_kwargs)\u001b[0m\n\u001b[0;32m    450\u001b[0m \u001b[38;5;28;01mdef\u001b[39;00m \u001b[38;5;21mprint_png\u001b[39m(\u001b[38;5;28mself\u001b[39m, filename_or_obj, \u001b[38;5;241m*\u001b[39m, metadata\u001b[38;5;241m=\u001b[39m\u001b[38;5;28;01mNone\u001b[39;00m, pil_kwargs\u001b[38;5;241m=\u001b[39m\u001b[38;5;28;01mNone\u001b[39;00m):\n\u001b[0;32m    451\u001b[0m \u001b[38;5;250m    \u001b[39m\u001b[38;5;124;03m\"\"\"\u001b[39;00m\n\u001b[0;32m    452\u001b[0m \u001b[38;5;124;03m    Write the figure to a PNG file.\u001b[39;00m\n\u001b[0;32m    453\u001b[0m \n\u001b[1;32m   (...)\u001b[0m\n\u001b[0;32m    495\u001b[0m \u001b[38;5;124;03m        *metadata*, including the default 'Software' key.\u001b[39;00m\n\u001b[0;32m    496\u001b[0m \u001b[38;5;124;03m    \"\"\"\u001b[39;00m\n\u001b[1;32m--> 497\u001b[0m     \u001b[38;5;28mself\u001b[39m\u001b[38;5;241m.\u001b[39m_print_pil(filename_or_obj, \u001b[38;5;124m\"\u001b[39m\u001b[38;5;124mpng\u001b[39m\u001b[38;5;124m\"\u001b[39m, pil_kwargs, metadata)\n",
      "File \u001b[1;32m~\\Downloads\\Anaconda\\Lib\\site-packages\\matplotlib\\backends\\backend_agg.py:446\u001b[0m, in \u001b[0;36mFigureCanvasAgg._print_pil\u001b[1;34m(self, filename_or_obj, fmt, pil_kwargs, metadata)\u001b[0m\n\u001b[0;32m    441\u001b[0m \u001b[38;5;250m\u001b[39m\u001b[38;5;124;03m\"\"\"\u001b[39;00m\n\u001b[0;32m    442\u001b[0m \u001b[38;5;124;03mDraw the canvas, then save it using `.image.imsave` (to which\u001b[39;00m\n\u001b[0;32m    443\u001b[0m \u001b[38;5;124;03m*pil_kwargs* and *metadata* are forwarded).\u001b[39;00m\n\u001b[0;32m    444\u001b[0m \u001b[38;5;124;03m\"\"\"\u001b[39;00m\n\u001b[0;32m    445\u001b[0m FigureCanvasAgg\u001b[38;5;241m.\u001b[39mdraw(\u001b[38;5;28mself\u001b[39m)\n\u001b[1;32m--> 446\u001b[0m mpl\u001b[38;5;241m.\u001b[39mimage\u001b[38;5;241m.\u001b[39mimsave(\n\u001b[0;32m    447\u001b[0m     filename_or_obj, \u001b[38;5;28mself\u001b[39m\u001b[38;5;241m.\u001b[39mbuffer_rgba(), \u001b[38;5;28mformat\u001b[39m\u001b[38;5;241m=\u001b[39mfmt, origin\u001b[38;5;241m=\u001b[39m\u001b[38;5;124m\"\u001b[39m\u001b[38;5;124mupper\u001b[39m\u001b[38;5;124m\"\u001b[39m,\n\u001b[0;32m    448\u001b[0m     dpi\u001b[38;5;241m=\u001b[39m\u001b[38;5;28mself\u001b[39m\u001b[38;5;241m.\u001b[39mfigure\u001b[38;5;241m.\u001b[39mdpi, metadata\u001b[38;5;241m=\u001b[39mmetadata, pil_kwargs\u001b[38;5;241m=\u001b[39mpil_kwargs)\n",
      "File \u001b[1;32m~\\Downloads\\Anaconda\\Lib\\site-packages\\matplotlib\\image.py:1656\u001b[0m, in \u001b[0;36mimsave\u001b[1;34m(fname, arr, vmin, vmax, cmap, format, origin, dpi, metadata, pil_kwargs)\u001b[0m\n\u001b[0;32m   1654\u001b[0m pil_kwargs\u001b[38;5;241m.\u001b[39msetdefault(\u001b[38;5;124m\"\u001b[39m\u001b[38;5;124mformat\u001b[39m\u001b[38;5;124m\"\u001b[39m, \u001b[38;5;28mformat\u001b[39m)\n\u001b[0;32m   1655\u001b[0m pil_kwargs\u001b[38;5;241m.\u001b[39msetdefault(\u001b[38;5;124m\"\u001b[39m\u001b[38;5;124mdpi\u001b[39m\u001b[38;5;124m\"\u001b[39m, (dpi, dpi))\n\u001b[1;32m-> 1656\u001b[0m image\u001b[38;5;241m.\u001b[39msave(fname, \u001b[38;5;241m*\u001b[39m\u001b[38;5;241m*\u001b[39mpil_kwargs)\n",
      "File \u001b[1;32m~\\Downloads\\Anaconda\\Lib\\site-packages\\PIL\\Image.py:2436\u001b[0m, in \u001b[0;36mImage.save\u001b[1;34m(self, fp, format, **params)\u001b[0m\n\u001b[0;32m   2434\u001b[0m         fp \u001b[38;5;241m=\u001b[39m builtins\u001b[38;5;241m.\u001b[39mopen(filename, \u001b[38;5;124m\"\u001b[39m\u001b[38;5;124mr+b\u001b[39m\u001b[38;5;124m\"\u001b[39m)\n\u001b[0;32m   2435\u001b[0m     \u001b[38;5;28;01melse\u001b[39;00m:\n\u001b[1;32m-> 2436\u001b[0m         fp \u001b[38;5;241m=\u001b[39m builtins\u001b[38;5;241m.\u001b[39mopen(filename, \u001b[38;5;124m\"\u001b[39m\u001b[38;5;124mw+b\u001b[39m\u001b[38;5;124m\"\u001b[39m)\n\u001b[0;32m   2438\u001b[0m \u001b[38;5;28;01mtry\u001b[39;00m:\n\u001b[0;32m   2439\u001b[0m     save_handler(\u001b[38;5;28mself\u001b[39m, fp, filename)\n",
      "\u001b[1;31mFileNotFoundError\u001b[0m: [Errno 2] No such file or directory: 'C:\\\\Users\\\\Pink PC\\\\Downloads\\\\Instacart Basket Analysis\\\\04 Analysis\\\\Visualizations\\\\bar_orders_dow_4.9.png'"
     ]
    }
   ],
   "source": [
    "# export bar chart\n",
    "\n",
    "bar.figure.savefig(os.path.join(path, '04 Analysis','Visualizations', 'bar_orders_dow_4.9.png'))"
   ]
  },
  {
   "cell_type": "code",
   "execution_count": null,
   "id": "56b22c32",
   "metadata": {
    "scrolled": true
   },
   "outputs": [],
   "source": [
    "# create histogram for prices\n",
    "\n",
    "hist = small['prices'].plot.hist(bins = 25)"
   ]
  },
  {
   "cell_type": "code",
   "execution_count": null,
   "id": "60e59402",
   "metadata": {},
   "outputs": [],
   "source": [
    "# export histogram\n",
    "\n",
    "hist.figure.savefig(os.path.join(path, '04 Analysis','Visualizations', 'hist_prices_4.9.png'))"
   ]
  },
  {
   "cell_type": "code",
   "execution_count": null,
   "id": "b1b464c3",
   "metadata": {},
   "outputs": [],
   "source": [
    "# create scatterplot for prices\n",
    "\n",
    "sns.scatterplot(x = 'prices', y = 'prices',data = small)"
   ]
  },
  {
   "cell_type": "code",
   "execution_count": null,
   "id": "b05d02c4",
   "metadata": {},
   "outputs": [],
   "source": [
    "# create subset that only includes needed columns\n",
    "\n",
    "small_2 = small[['orders_day_of_week','prices']]"
   ]
  },
  {
   "cell_type": "code",
   "execution_count": null,
   "id": "f23342f6",
   "metadata": {},
   "outputs": [],
   "source": [
    "# creat line chart\n",
    "\n",
    "line = sns.lineplot(data = small_2, x = 'orders_day_of_week',y = 'prices')"
   ]
  },
  {
   "cell_type": "code",
   "execution_count": null,
   "id": "8aa79e0e",
   "metadata": {},
   "outputs": [],
   "source": [
    "# export line chart\n",
    "\n",
    "line.figure.savefig(os.path.join(path, '04 Analysis','Visualizations', 'line_sample_orders_dow_4.9.png'))"
   ]
  },
  {
   "cell_type": "markdown",
   "id": "d9585b74",
   "metadata": {},
   "source": [
    "#### Part 2 Question 3\n",
    "\n",
    "You need to provide the Instacart senior stakeholders with descriptive findings about sales. Create a histogram of the â€œorder_hour_of_dayâ€ column.\n",
    "- In a markdown cell beneath your histogram, describe what the histogram demonstrates."
   ]
  },
  {
   "cell_type": "code",
   "execution_count": null,
   "id": "98ffbd79",
   "metadata": {},
   "outputs": [],
   "source": [
    "# create histogram for order_hour_of_day\n",
    "\n",
    "hist_order_hour = df_all['order_hour_of_day'].plot.hist(bins = 24)"
   ]
  },
  {
   "cell_type": "code",
   "execution_count": null,
   "id": "6e6455fd",
   "metadata": {},
   "outputs": [],
   "source": [
    "# update chart with better formatting:\n",
    "\n",
    "# create histogram for order_hour_of_day\n",
    "\n",
    "hist_order_hour = df_all['order_hour_of_day'].plot.hist(bins = 24)\n",
    "\n",
    "\n",
    "# set axis labels\n",
    "\n",
    "hist_order_hour.set_ylabel('Orders')\n",
    "hist_order_hour.set_xlabel('Hour of Day')\n",
    "\n",
    "\n",
    "# set x axis limit\n",
    "\n",
    "hist_order_hour.set_xlim(0, 23)\n",
    "\n",
    "\n",
    "# set title\n",
    "\n",
    "hist_order_hour.set_title('Histogram of Orders by Hour of Day')\n",
    "\n",
    "\n",
    "# show plot\n",
    "\n",
    "plt.show()"
   ]
  },
  {
   "cell_type": "markdown",
   "id": "2be84275",
   "metadata": {},
   "source": [
    "##### Part 2 Question 3 Answers\n",
    "\n",
    "I created a histogram with 24 bins so that each hour of the day would have its own bin. The histogram represents the frequency of orders for each hour of the day. In other words, orders are made most often between 10am and 4pm and least often between midnight and 6am."
   ]
  },
  {
   "cell_type": "markdown",
   "id": "ea2effd8",
   "metadata": {},
   "source": [
    "#### Part 2 Question 4\n",
    "\n",
    "The marketing team is curious about the distribution of orders among customers in terms of loyalty. Create a bar chart from the â€œloyalty_flagâ€ column."
   ]
  },
  {
   "cell_type": "code",
   "execution_count": null,
   "id": "506d2d5d",
   "metadata": {},
   "outputs": [],
   "source": [
    "# create bar chart from loyalty_flag\n",
    "\n",
    "bar_loyalty = df_all['loyalty_flag'].value_counts().plot.bar(color =['red', 'green', 'blue'], title='Orders by Loyalty Type')"
   ]
  },
  {
   "cell_type": "code",
   "execution_count": null,
   "id": "555cbb8f",
   "metadata": {},
   "outputs": [],
   "source": [
    "# update chart with better formatting:\n",
    "\n",
    "# create bar chart from loyalty_flag\n",
    "\n",
    "bar_loyalty = df_all['loyalty_flag'].value_counts().plot.bar(color =['red', 'green', 'blue'], title='Orders by Loyalty Type')\n",
    "\n",
    "\n",
    "# set axis labels\n",
    "\n",
    "bar_loyalty.set_ylabel('Orders')\n",
    "bar_loyalty.set_xlabel('Loyalty Type')\n",
    "\n",
    "\n",
    "# rotate x-axis labels\n",
    "\n",
    "bar_loyalty.set_xticklabels(bar_loyalty.get_xticklabels(), rotation=0)\n",
    "\n",
    "\n",
    "# show plot\n",
    "\n",
    "plt.show()"
   ]
  },
  {
   "cell_type": "markdown",
   "id": "23c437c9",
   "metadata": {},
   "source": [
    "#### Part 2 Question 5\n",
    "\n",
    "Check whether thereâ€™s a difference in expenditure (the â€œpricesâ€ column) depending on the hour of the day. (Hint: To check this, you need to use an accurate sample for your line chart!)"
   ]
  },
  {
   "cell_type": "code",
   "execution_count": null,
   "id": "9c3da1d8",
   "metadata": {},
   "outputs": [],
   "source": [
    "# create subset that only includes needed columns\n",
    "\n",
    "small_prices_hod = small[['order_hour_of_day','prices']]"
   ]
  },
  {
   "cell_type": "code",
   "execution_count": null,
   "id": "d92cb7ba",
   "metadata": {},
   "outputs": [],
   "source": [
    "# creat line chart\n",
    "\n",
    "line_prices_hod = sns.lineplot(data = small_prices_hod, x = 'order_hour_of_day',y = 'prices')"
   ]
  },
  {
   "cell_type": "code",
   "execution_count": null,
   "id": "912b2b82",
   "metadata": {},
   "outputs": [],
   "source": [
    "# update chart with better formatting:\n",
    "\n",
    "# create line chart\n",
    "\n",
    "line_prices_hod = sns.lineplot(data = small_prices_hod, x = 'order_hour_of_day', y = 'prices')\n",
    "\n",
    "\n",
    "# set axis labels\n",
    "\n",
    "line_prices_hod.set_ylabel('Prices')\n",
    "line_prices_hod.set_xlabel('Hour of Day')\n",
    "\n",
    "\n",
    "# set x axis limit\n",
    "\n",
    "line_prices_hod.set_xlim(0, 23)\n",
    "\n",
    "\n",
    "# set title\n",
    "\n",
    "line_prices_hod.set_title('Prices by Hour of Day')\n",
    "\n",
    "\n",
    "# show plot\n",
    "\n",
    "plt.show()"
   ]
  },
  {
   "cell_type": "markdown",
   "id": "21ac733b",
   "metadata": {},
   "source": [
    "#### Part 2 Question 6\n",
    "\n",
    "Now that you have information about customers, you need to conduct some exploratory analysis of customer demographics to inform the targeted marketing campaigns. First, determine whether thereâ€™s a connection between age and family situation by creating a line chart exploring the connections between age and number of dependents:\n",
    "- In a markdown cell beneath your line chart, describe what the line chart shows."
   ]
  },
  {
   "cell_type": "code",
   "execution_count": null,
   "id": "dca1242b",
   "metadata": {},
   "outputs": [],
   "source": [
    "# create subset that only includes needed columns\n",
    "\n",
    "small_age_dependants = small[['age','num_of_dependants']]"
   ]
  },
  {
   "cell_type": "code",
   "execution_count": null,
   "id": "e2ff3b6f",
   "metadata": {},
   "outputs": [],
   "source": [
    "# create line chart\n",
    "\n",
    "line_age_dependants = sns.lineplot(data = small_age_dependants, x = 'age',y = 'num_of_dependants')"
   ]
  },
  {
   "cell_type": "code",
   "execution_count": null,
   "id": "c40aacab",
   "metadata": {},
   "outputs": [],
   "source": [
    "# find max age\n",
    "\n",
    "small_age_dependants['age'].max()"
   ]
  },
  {
   "cell_type": "code",
   "execution_count": null,
   "id": "095dde48",
   "metadata": {},
   "outputs": [],
   "source": [
    "# find min age\n",
    "\n",
    "small_age_dependants['age'].min()"
   ]
  },
  {
   "cell_type": "code",
   "execution_count": null,
   "id": "7b18fa76",
   "metadata": {},
   "outputs": [],
   "source": [
    "# update chart with better formatting:\n",
    "\n",
    "# create line chart\n",
    "\n",
    "line_age_dependants = sns.lineplot(data = small_age_dependants, x = 'age',y = 'num_of_dependants')\n",
    "\n",
    "\n",
    "# set axis labels\n",
    "\n",
    "line_age_dependants.set_ylabel('Number of Dependants')\n",
    "line_age_dependants.set_xlabel('Age')\n",
    "\n",
    "\n",
    "# set x axis limit\n",
    "\n",
    "line_age_dependants.set_xlim(18, 81)\n",
    "\n",
    "\n",
    "# set title\n",
    "\n",
    "line_age_dependants.set_title('Number of Dependants by Age')\n",
    "\n",
    "\n",
    "# show plot\n",
    "\n",
    "plt.show()"
   ]
  },
  {
   "cell_type": "markdown",
   "id": "7bb69b7c",
   "metadata": {},
   "source": [
    "##### Part 2 Question 6 Answers\n",
    "\n",
    "The line chart shows that a random distribution of number of dependants based on age. In other words, age of a person doesn't seem to predict the number of dependants that person has in any meaningful way."
   ]
  },
  {
   "cell_type": "markdown",
   "id": "c5c24b71",
   "metadata": {},
   "source": [
    "#### Part 2 Question 7\n",
    "\n",
    "Youâ€™ll also need to explore whether thereâ€™s a connection between age and spending power (income). To visualize this relationship, create a scatterplot using the sns.scatterplot() function.\n",
    "- In a markdown cell beneath your scatterplot, describe what the scatterplot shows."
   ]
  },
  {
   "cell_type": "code",
   "execution_count": null,
   "id": "c305dc86",
   "metadata": {},
   "outputs": [],
   "source": [
    "# create subset that only includes needed columns\n",
    "\n",
    "small_age_income = small[['age','income']]"
   ]
  },
  {
   "cell_type": "code",
   "execution_count": null,
   "id": "4d8b3a91",
   "metadata": {},
   "outputs": [],
   "source": [
    "# create scatterplot for age & income\n",
    "\n",
    "plot_age_income = sns.scatterplot(x = 'age', y = 'income',data = small_age_income)"
   ]
  },
  {
   "cell_type": "code",
   "execution_count": null,
   "id": "a166b1cd",
   "metadata": {},
   "outputs": [],
   "source": [
    "# update chart with better formatting:\n",
    "\n",
    "# create scatterplot for age & income\n",
    "\n",
    "plot_age_income = sns.scatterplot(x = 'age', y = 'income',data = small_age_income)\n",
    "\n",
    "\n",
    "# set axis labels\n",
    "\n",
    "plot_age_income.set_ylabel('Income')\n",
    "plot_age_income.set_xlabel('Age')\n",
    "\n",
    "\n",
    "# set x axis limit\n",
    "\n",
    "plot_age_income.set_xlim(18, 81)\n",
    "\n",
    "\n",
    "# set title\n",
    "\n",
    "plot_age_income.set_title('Correlation between Age and Income')\n",
    "\n",
    "\n",
    "# show plot\n",
    "\n",
    "plt.show()"
   ]
  },
  {
   "cell_type": "code",
   "execution_count": null,
   "id": "db957ec4",
   "metadata": {},
   "outputs": [],
   "source": [
    "# check max income by age\n",
    "\n",
    "small_age_income.groupby('age').agg({'income': ['max']}).head(50)"
   ]
  },
  {
   "cell_type": "markdown",
   "id": "707b9cf1",
   "metadata": {},
   "source": [
    "##### Part 2 Question 7 Answers\n",
    "\n",
    "The scatterplot shows that the majority of incomes for all ages are below 200K. However, for ages 40 and below, the  max incomes are < 400K. For ages above 40, there is a large concentration of incomes between and 200K and 300K and there are incomes that reach as high as 600K."
   ]
  },
  {
   "cell_type": "markdown",
   "id": "a8a33817",
   "metadata": {},
   "source": [
    "#### Part 2 Question 8\n",
    "\n",
    "Export your visualizations as â€œ.pngâ€ files in your relevant project folder."
   ]
  },
  {
   "cell_type": "code",
   "execution_count": null,
   "id": "cde86b68",
   "metadata": {},
   "outputs": [],
   "source": [
    "# export histogram\n",
    "\n",
    "hist_order_hour.figure.savefig(os.path.join(path, '04 Analysis','Visualizations', 'histogram_order_hour_4.9_task.png'))"
   ]
  },
  {
   "cell_type": "code",
   "execution_count": null,
   "id": "72343600",
   "metadata": {},
   "outputs": [],
   "source": [
    "# export bar chart\n",
    "\n",
    "bar_loyalty.figure.savefig(os.path.join(path, '04 Analysis','Visualizations', 'bar_loyalty_4.9_task.png'))"
   ]
  },
  {
   "cell_type": "code",
   "execution_count": null,
   "id": "183e5b1f",
   "metadata": {},
   "outputs": [],
   "source": [
    "# export prices hour line chart\n",
    "\n",
    "line_prices_hod.figure.savefig(os.path.join(path, '04 Analysis','Visualizations', 'line_prices_hod_4.9_task.png'))"
   ]
  },
  {
   "cell_type": "code",
   "execution_count": null,
   "id": "477721ab",
   "metadata": {},
   "outputs": [],
   "source": [
    "# export age dependants line chart\n",
    "\n",
    "line_age_dependants.figure.savefig(os.path.join(path, '04 Analysis','Visualizations', 'line_age_dependants_4.9_task.png'))"
   ]
  },
  {
   "cell_type": "code",
   "execution_count": null,
   "id": "230ba80b",
   "metadata": {},
   "outputs": [],
   "source": [
    "# export scatterplot\n",
    "\n",
    "plot_age_income.figure.savefig(os.path.join(path, '04 Analysis','Visualizations', 'plot_age_income_4.9_task.png'))"
   ]
  }
 ],
 "metadata": {
  "kernelspec": {
   "display_name": "Python 3 (ipykernel)",
   "language": "python",
   "name": "python3"
  },
  "language_info": {
   "codemirror_mode": {
    "name": "ipython",
    "version": 3
   },
   "file_extension": ".py",
   "mimetype": "text/x-python",
   "name": "python",
   "nbconvert_exporter": "python",
   "pygments_lexer": "ipython3",
   "version": "3.11.7"
  }
 },
 "nbformat": 4,
 "nbformat_minor": 5
}
