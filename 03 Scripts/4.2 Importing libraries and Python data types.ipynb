{
 "cells": [
  {
   "cell_type": "markdown",
   "id": "1c96f685",
   "metadata": {},
   "source": [
    "## 01. Importing libraries"
   ]
  },
  {
   "cell_type": "code",
   "execution_count": 1,
   "id": "2a03caa6",
   "metadata": {},
   "outputs": [],
   "source": [
    "# Import libraries                  \n",
    "import pandas as pd\n",
    "import numpy as np\n",
    "import os"
   ]
  },
  {
   "cell_type": "markdown",
   "id": "590e5825",
   "metadata": {},
   "source": [
    "## 02. Data types"
   ]
  },
  {
   "cell_type": "code",
   "execution_count": 2,
   "id": "8daa54c3",
   "metadata": {},
   "outputs": [],
   "source": [
    "x = 2"
   ]
  },
  {
   "cell_type": "code",
   "execution_count": 3,
   "id": "7d7c6fa9",
   "metadata": {},
   "outputs": [
    {
     "data": {
      "text/plain": [
       "2"
      ]
     },
     "execution_count": 3,
     "metadata": {},
     "output_type": "execute_result"
    }
   ],
   "source": [
    "x"
   ]
  },
  {
   "cell_type": "code",
   "execution_count": 4,
   "id": "73a066ef",
   "metadata": {},
   "outputs": [
    {
     "name": "stdout",
     "output_type": "stream",
     "text": [
      "2\n"
     ]
    }
   ],
   "source": [
    "print(x)"
   ]
  },
  {
   "cell_type": "code",
   "execution_count": 5,
   "id": "d7c69168",
   "metadata": {},
   "outputs": [
    {
     "data": {
      "text/plain": [
       "int"
      ]
     },
     "execution_count": 5,
     "metadata": {},
     "output_type": "execute_result"
    }
   ],
   "source": [
    "type(x)"
   ]
  },
  {
   "cell_type": "code",
   "execution_count": 6,
   "id": "43f4c623",
   "metadata": {},
   "outputs": [],
   "source": [
    "y = 5.678"
   ]
  },
  {
   "cell_type": "code",
   "execution_count": 7,
   "id": "5045e4ee",
   "metadata": {},
   "outputs": [
    {
     "data": {
      "text/plain": [
       "float"
      ]
     },
     "execution_count": 7,
     "metadata": {},
     "output_type": "execute_result"
    }
   ],
   "source": [
    "type(y)"
   ]
  },
  {
   "cell_type": "code",
   "execution_count": 8,
   "id": "3324ac15",
   "metadata": {},
   "outputs": [],
   "source": [
    "z = 'Brazil'"
   ]
  },
  {
   "cell_type": "code",
   "execution_count": 9,
   "id": "d419b647",
   "metadata": {},
   "outputs": [
    {
     "data": {
      "text/plain": [
       "str"
      ]
     },
     "execution_count": 9,
     "metadata": {},
     "output_type": "execute_result"
    }
   ],
   "source": [
    "type(z)"
   ]
  },
  {
   "cell_type": "code",
   "execution_count": 10,
   "id": "c50a031b",
   "metadata": {},
   "outputs": [
    {
     "data": {
      "text/plain": [
       "str"
      ]
     },
     "execution_count": 10,
     "metadata": {},
     "output_type": "execute_result"
    }
   ],
   "source": [
    "type('Mania')"
   ]
  },
  {
   "cell_type": "code",
   "execution_count": 11,
   "id": "9a9534f8",
   "metadata": {},
   "outputs": [
    {
     "data": {
      "text/plain": [
       "bool"
      ]
     },
     "execution_count": 11,
     "metadata": {},
     "output_type": "execute_result"
    }
   ],
   "source": [
    "type(True)"
   ]
  },
  {
   "cell_type": "code",
   "execution_count": 12,
   "id": "fb5cddb6",
   "metadata": {},
   "outputs": [
    {
     "data": {
      "text/plain": [
       "bool"
      ]
     },
     "execution_count": 12,
     "metadata": {},
     "output_type": "execute_result"
    }
   ],
   "source": [
    "type(False)"
   ]
  },
  {
   "cell_type": "code",
   "execution_count": 13,
   "id": "98d74c4c",
   "metadata": {},
   "outputs": [
    {
     "name": "stdout",
     "output_type": "stream",
     "text": [
      "2\n"
     ]
    }
   ],
   "source": [
    "print(x)"
   ]
  },
  {
   "cell_type": "code",
   "execution_count": 14,
   "id": "1f1dba4e",
   "metadata": {},
   "outputs": [
    {
     "data": {
      "text/plain": [
       "6"
      ]
     },
     "execution_count": 14,
     "metadata": {},
     "output_type": "execute_result"
    }
   ],
   "source": [
    "x + 4"
   ]
  },
  {
   "cell_type": "code",
   "execution_count": 15,
   "id": "2d4a7199",
   "metadata": {},
   "outputs": [],
   "source": [
    "x = x + 4"
   ]
  },
  {
   "cell_type": "code",
   "execution_count": 16,
   "id": "268c1a9c",
   "metadata": {},
   "outputs": [
    {
     "name": "stdout",
     "output_type": "stream",
     "text": [
      "6\n"
     ]
    }
   ],
   "source": [
    "print(x)"
   ]
  },
  {
   "cell_type": "code",
   "execution_count": 17,
   "id": "6f0569b2",
   "metadata": {},
   "outputs": [],
   "source": [
    "a = 'Hello, '"
   ]
  },
  {
   "cell_type": "code",
   "execution_count": 19,
   "id": "3fd1a59e",
   "metadata": {},
   "outputs": [],
   "source": [
    "b = 'Marley'"
   ]
  },
  {
   "cell_type": "code",
   "execution_count": 20,
   "id": "2e17b1f4",
   "metadata": {},
   "outputs": [
    {
     "data": {
      "text/plain": [
       "'Hello, Marley'"
      ]
     },
     "execution_count": 20,
     "metadata": {},
     "output_type": "execute_result"
    }
   ],
   "source": [
    "a + b"
   ]
  },
  {
   "cell_type": "code",
   "execution_count": 21,
   "id": "ebbbe2df",
   "metadata": {},
   "outputs": [],
   "source": [
    "n = 'potato'"
   ]
  },
  {
   "cell_type": "code",
   "execution_count": 22,
   "id": "136e670b",
   "metadata": {},
   "outputs": [
    {
     "data": {
      "text/plain": [
       "'potatopotatopotatopotatopotatopotatopotatopotatopotatopotatopotatopotato'"
      ]
     },
     "execution_count": 22,
     "metadata": {},
     "output_type": "execute_result"
    }
   ],
   "source": [
    "n * 12"
   ]
  },
  {
   "cell_type": "code",
   "execution_count": 23,
   "id": "421642ec",
   "metadata": {},
   "outputs": [
    {
     "data": {
      "text/plain": [
       "False"
      ]
     },
     "execution_count": 23,
     "metadata": {},
     "output_type": "execute_result"
    }
   ],
   "source": [
    "x == y"
   ]
  },
  {
   "cell_type": "code",
   "execution_count": 24,
   "id": "467198fa",
   "metadata": {},
   "outputs": [
    {
     "data": {
      "text/plain": [
       "bool"
      ]
     },
     "execution_count": 24,
     "metadata": {},
     "output_type": "execute_result"
    }
   ],
   "source": [
    "type(x ==y)"
   ]
  },
  {
   "cell_type": "markdown",
   "id": "784c9065",
   "metadata": {},
   "source": [
    "### 4.2 question 7"
   ]
  },
  {
   "cell_type": "code",
   "execution_count": 25,
   "id": "0268e4f5",
   "metadata": {},
   "outputs": [],
   "source": [
    "a = 20"
   ]
  },
  {
   "cell_type": "code",
   "execution_count": 26,
   "id": "ba395281",
   "metadata": {},
   "outputs": [
    {
     "data": {
      "text/plain": [
       "100"
      ]
     },
     "execution_count": 26,
     "metadata": {},
     "output_type": "execute_result"
    }
   ],
   "source": [
    "a + 80"
   ]
  },
  {
   "cell_type": "code",
   "execution_count": 27,
   "id": "56378d16",
   "metadata": {},
   "outputs": [
    {
     "data": {
      "text/plain": [
       "100"
      ]
     },
     "execution_count": 27,
     "metadata": {},
     "output_type": "execute_result"
    }
   ],
   "source": [
    "a * 5"
   ]
  },
  {
   "cell_type": "code",
   "execution_count": 28,
   "id": "8c82933d",
   "metadata": {},
   "outputs": [],
   "source": [
    "a = a + 230"
   ]
  },
  {
   "cell_type": "code",
   "execution_count": 29,
   "id": "e36e0998",
   "metadata": {},
   "outputs": [
    {
     "name": "stdout",
     "output_type": "stream",
     "text": [
      "250\n"
     ]
    }
   ],
   "source": [
    "print(a)"
   ]
  },
  {
   "cell_type": "code",
   "execution_count": 30,
   "id": "b2532974",
   "metadata": {},
   "outputs": [
    {
     "data": {
      "text/plain": [
       "100"
      ]
     },
     "execution_count": 30,
     "metadata": {},
     "output_type": "execute_result"
    }
   ],
   "source": [
    "a - 150"
   ]
  },
  {
   "cell_type": "markdown",
   "id": "84c67567",
   "metadata": {},
   "source": [
    "### 4.2 question 8"
   ]
  },
  {
   "cell_type": "code",
   "execution_count": 31,
   "id": "e0c4c7b5",
   "metadata": {},
   "outputs": [],
   "source": [
    "b = 2.224"
   ]
  },
  {
   "cell_type": "code",
   "execution_count": 32,
   "id": "84eb8ccc",
   "metadata": {},
   "outputs": [],
   "source": [
    "c = 27.220"
   ]
  },
  {
   "cell_type": "code",
   "execution_count": 33,
   "id": "d2cb1388",
   "metadata": {},
   "outputs": [
    {
     "data": {
      "text/plain": [
       "12.239208633093524"
      ]
     },
     "execution_count": 33,
     "metadata": {},
     "output_type": "execute_result"
    }
   ],
   "source": [
    "c / b"
   ]
  },
  {
   "cell_type": "code",
   "execution_count": 34,
   "id": "5c147d3a",
   "metadata": {},
   "outputs": [
    {
     "data": {
      "text/plain": [
       "float"
      ]
     },
     "execution_count": 34,
     "metadata": {},
     "output_type": "execute_result"
    }
   ],
   "source": [
    "type(b)"
   ]
  },
  {
   "cell_type": "code",
   "execution_count": 35,
   "id": "b5c8d79f",
   "metadata": {},
   "outputs": [
    {
     "data": {
      "text/plain": [
       "float"
      ]
     },
     "execution_count": 35,
     "metadata": {},
     "output_type": "execute_result"
    }
   ],
   "source": [
    "type(c)"
   ]
  },
  {
   "cell_type": "code",
   "execution_count": 37,
   "id": "42f7c45b",
   "metadata": {},
   "outputs": [
    {
     "data": {
      "text/plain": [
       "float"
      ]
     },
     "execution_count": 37,
     "metadata": {},
     "output_type": "execute_result"
    }
   ],
   "source": [
    "type(c / b)"
   ]
  },
  {
   "cell_type": "markdown",
   "id": "fab4c282",
   "metadata": {},
   "source": [
    "### 4.2 question 9"
   ]
  },
  {
   "cell_type": "code",
   "execution_count": 53,
   "id": "2264f8f8",
   "metadata": {},
   "outputs": [],
   "source": [
    "d = 'D'"
   ]
  },
  {
   "cell_type": "code",
   "execution_count": 54,
   "id": "f8aa6425",
   "metadata": {},
   "outputs": [],
   "source": [
    "e = 'e'"
   ]
  },
  {
   "cell_type": "code",
   "execution_count": 55,
   "id": "a159092a",
   "metadata": {},
   "outputs": [],
   "source": [
    "f = 'c'"
   ]
  },
  {
   "cell_type": "code",
   "execution_count": 56,
   "id": "bb9a3c30",
   "metadata": {},
   "outputs": [],
   "source": [
    "g = 'k'"
   ]
  },
  {
   "cell_type": "code",
   "execution_count": 57,
   "id": "f3d64b59",
   "metadata": {},
   "outputs": [
    {
     "data": {
      "text/plain": [
       "'Deck'"
      ]
     },
     "execution_count": 57,
     "metadata": {},
     "output_type": "execute_result"
    }
   ],
   "source": [
    "d + e + f + g"
   ]
  },
  {
   "cell_type": "markdown",
   "id": "5f0cc39f",
   "metadata": {},
   "source": [
    "### 4.2 question 10"
   ]
  },
  {
   "cell_type": "code",
   "execution_count": 58,
   "id": "209c38e4",
   "metadata": {},
   "outputs": [],
   "source": [
    "a = 'Hello '"
   ]
  },
  {
   "cell_type": "code",
   "execution_count": 65,
   "id": "1dee4b37",
   "metadata": {},
   "outputs": [],
   "source": [
    "b = 'Tony! '"
   ]
  },
  {
   "cell_type": "code",
   "execution_count": 61,
   "id": "981af192",
   "metadata": {},
   "outputs": [],
   "source": [
    "c = 'Can '"
   ]
  },
  {
   "cell_type": "code",
   "execution_count": 62,
   "id": "395e22a1",
   "metadata": {},
   "outputs": [],
   "source": [
    "d = 'I '"
   ]
  },
  {
   "cell_type": "code",
   "execution_count": 63,
   "id": "de17e735",
   "metadata": {},
   "outputs": [],
   "source": [
    "e = 'eat '"
   ]
  },
  {
   "cell_type": "code",
   "execution_count": 64,
   "id": "ab6d940e",
   "metadata": {},
   "outputs": [],
   "source": [
    "f = 'a '"
   ]
  },
  {
   "cell_type": "code",
   "execution_count": 66,
   "id": "398b85ca",
   "metadata": {},
   "outputs": [],
   "source": [
    "g = 'Chocolony?'"
   ]
  },
  {
   "cell_type": "code",
   "execution_count": 68,
   "id": "f9410866",
   "metadata": {},
   "outputs": [],
   "source": [
    "two_short = a + b"
   ]
  },
  {
   "cell_type": "code",
   "execution_count": 69,
   "id": "961c15f0",
   "metadata": {},
   "outputs": [],
   "source": [
    "sentences = c + d + e + f + g"
   ]
  },
  {
   "cell_type": "code",
   "execution_count": 70,
   "id": "d31a9363",
   "metadata": {},
   "outputs": [],
   "source": [
    "solution = two_short + sentences"
   ]
  },
  {
   "cell_type": "code",
   "execution_count": 71,
   "id": "226ae1ff",
   "metadata": {},
   "outputs": [
    {
     "name": "stdout",
     "output_type": "stream",
     "text": [
      "Hello Tony! Can I eat a Chocolony?\n"
     ]
    }
   ],
   "source": [
    "print(solution)"
   ]
  },
  {
   "cell_type": "markdown",
   "id": "c20d5440",
   "metadata": {},
   "source": [
    "### 4.2 Bonus Task"
   ]
  },
  {
   "cell_type": "code",
   "execution_count": 73,
   "id": "9e271989",
   "metadata": {},
   "outputs": [],
   "source": [
    "single_word = 'yoga'"
   ]
  },
  {
   "cell_type": "code",
   "execution_count": 75,
   "id": "72e91a1b",
   "metadata": {},
   "outputs": [
    {
     "data": {
      "text/plain": [
       "'yogayogayogayogayogayogayogayogayogayogayogayogayogayogayogayogayogayogayogayogayogayogayogayogayogayogayogayogayogayogayogayogayogayogayogayogayogayogayogayogayogayogayogayogayogayogayogayogayogayogayogayogayogayogayogayogayogayogayogayogayogayogayogayogayogayogayogayogayogayogayogayogayogayogayogayogayogayogayogayogayogayogayogayogayogayogayogayogayogayogayogayogayogayogayogayogayogayogayogayoga'"
      ]
     },
     "execution_count": 75,
     "metadata": {},
     "output_type": "execute_result"
    }
   ],
   "source": [
    "single_word * 100"
   ]
  }
 ],
 "metadata": {
  "kernelspec": {
   "display_name": "Python 3 (ipykernel)",
   "language": "python",
   "name": "python3"
  },
  "language_info": {
   "codemirror_mode": {
    "name": "ipython",
    "version": 3
   },
   "file_extension": ".py",
   "mimetype": "text/x-python",
   "name": "python",
   "nbconvert_exporter": "python",
   "pygments_lexer": "ipython3",
   "version": "3.11.7"
  }
 },
 "nbformat": 4,
 "nbformat_minor": 5
}
